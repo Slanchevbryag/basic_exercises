{
 "cells": [
  {
   "cell_type": "code",
   "execution_count": 88,
   "id": "0a9cb6ec-aed8-4c16-8e75-6219a0b6db7a",
   "metadata": {},
   "outputs": [
    {
     "name": "stdout",
     "output_type": "stream",
     "text": [
      "к\n"
     ]
    }
   ],
   "source": [
    "word = 'Архангельск'\n",
    "letters = []\n",
    "for letter in word:\n",
    "    letters += letter\n",
    "print(letters[-1])"
   ]
  },
  {
   "cell_type": "code",
   "execution_count": 101,
   "id": "33c13584-3be9-4bd8-b5e2-4c2f9725e707",
   "metadata": {},
   "outputs": [
    {
     "name": "stdout",
     "output_type": "stream",
     "text": [
      "2\n"
     ]
    }
   ],
   "source": [
    "word = 'Архангельск'\n",
    "word = word.lower()\n",
    "letters = []\n",
    "for letter in word:\n",
    "    letters += letter\n",
    "collect = letters.count('а')\n",
    "print(collect)"
   ]
  },
  {
   "cell_type": "code",
   "execution_count": 109,
   "id": "d5d46df9-ea68-4987-9277-b513544be6a1",
   "metadata": {},
   "outputs": [
    {
     "name": "stdout",
     "output_type": "stream",
     "text": [
      "3\n"
     ]
    }
   ],
   "source": [
    "word = 'Архангельск'\n",
    "\n",
    "collect = 0\n",
    "word = word.lower()\n",
    "vowels = ['а', 'о', 'у', 'э', 'ы', 'и', 'я', 'е', 'ё', 'ю']\n",
    "\n",
    "for letter in word:\n",
    "    if letter in vowels:\n",
    "        collect += 1\n",
    " \n",
    "print(collect)"
   ]
  },
  {
   "cell_type": "code",
   "execution_count": 111,
   "id": "f6101c1e-7338-49b2-b7e3-b5e686f5f1ab",
   "metadata": {},
   "outputs": [
    {
     "name": "stdout",
     "output_type": "stream",
     "text": [
      "4\n"
     ]
    }
   ],
   "source": [
    "sentence = 'Мы приехали в гости'\n",
    "print(len(sentence.split()))"
   ]
  },
  {
   "cell_type": "code",
   "execution_count": 112,
   "id": "3f699ace-5607-4824-b2ef-b297a2404d44",
   "metadata": {},
   "outputs": [
    {
     "name": "stdout",
     "output_type": "stream",
     "text": [
      "М\n",
      "п\n",
      "в\n",
      "г\n"
     ]
    }
   ],
   "source": [
    "sentence = 'Мы приехали в гости'\n",
    "\n",
    "word = sentence.split()\n",
    "for letters in word:\n",
    "    print(letters[0])"
   ]
  },
  {
   "cell_type": "code",
   "execution_count": 113,
   "id": "1a073f9d-498f-4a92-a7ad-cc4cd9659912",
   "metadata": {},
   "outputs": [
    {
     "name": "stdout",
     "output_type": "stream",
     "text": [
      "4.0\n"
     ]
    }
   ],
   "source": [
    "sentence = 'Мы приехали в гости'\n",
    "\n",
    "collect = 0\n",
    "word = sentence.split()\n",
    "\n",
    "for letters in word:\n",
    "    collect += len(letters)\n",
    "print(collect/len(word))"
   ]
  },
  {
   "cell_type": "code",
   "execution_count": 114,
   "id": "2088e888-6d98-446e-893c-5424bf93e794",
   "metadata": {},
   "outputs": [
    {
     "data": {
      "text/plain": [
       "4.0"
      ]
     },
     "execution_count": 114,
     "metadata": {},
     "output_type": "execute_result"
    }
   ],
   "source": [
    "(2+8+1+5)/4"
   ]
  },
  {
   "cell_type": "code",
   "execution_count": null,
   "id": "97d9b0b9-f6eb-488b-baf1-4407723ac10e",
   "metadata": {},
   "outputs": [],
   "source": []
  }
 ],
 "metadata": {
  "kernelspec": {
   "display_name": "Python 3 (ipykernel)",
   "language": "python",
   "name": "python3"
  },
  "language_info": {
   "codemirror_mode": {
    "name": "ipython",
    "version": 3
   },
   "file_extension": ".py",
   "mimetype": "text/x-python",
   "name": "python",
   "nbconvert_exporter": "python",
   "pygments_lexer": "ipython3",
   "version": "3.10.11"
  }
 },
 "nbformat": 4,
 "nbformat_minor": 5
}
